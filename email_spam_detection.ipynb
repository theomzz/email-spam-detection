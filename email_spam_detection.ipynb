{
  "nbformat": 4,
  "nbformat_minor": 0,
  "metadata": {
    "colab": {
      "provenance": [],
      "authorship_tag": "ABX9TyOhdsI7AlUk2/yyC/VLW2lh",
      "include_colab_link": true
    },
    "kernelspec": {
      "name": "python3",
      "display_name": "Python 3"
    },
    "language_info": {
      "name": "python"
    }
  },
  "cells": [
    {
      "cell_type": "markdown",
      "metadata": {
        "id": "view-in-github",
        "colab_type": "text"
      },
      "source": [
        "<a href=\"https://colab.research.google.com/github/theomzz/email-spam-detection/blob/main/email_spam_detection.ipynb\" target=\"_parent\"><img src=\"https://colab.research.google.com/assets/colab-badge.svg\" alt=\"Open In Colab\"/></a>"
      ]
    },
    {
      "cell_type": "code",
      "execution_count": 1,
      "metadata": {
        "colab": {
          "base_uri": "https://localhost:8080/"
        },
        "id": "5Ucj9l8jUhsV",
        "outputId": "5fa816de-972d-4b31-82db-f47dbea64550"
      },
      "outputs": [
        {
          "output_type": "stream",
          "name": "stdout",
          "text": [
            "(5572,)\n",
            "(4457,)\n",
            "(1115,)\n",
            "              precision    recall  f1-score   support\n",
            "\n",
            "           0       0.99      0.74      0.84       155\n",
            "           1       0.96      1.00      0.98       960\n",
            "\n",
            "    accuracy                           0.96      1115\n",
            "   macro avg       0.98      0.87      0.91      1115\n",
            "weighted avg       0.96      0.96      0.96      1115\n",
            "\n"
          ]
        }
      ],
      "source": [
        "#Import python liabraries from scikit-learn.\n",
        "import pandas as pd\n",
        "import numpy as np\n",
        "import seaborn as sns\n",
        "import matplotlib.pyplot as plt\n",
        "from sklearn.model_selection import train_test_split\n",
        "from sklearn.linear_model import LogisticRegression\n",
        "from sklearn.feature_extraction.text import TfidfVectorizer\n",
        "from sklearn.metrics import confusion_matrix,classification_report,accuracy_score,f1_score,recall_score,precision_score\n",
        "\n",
        "df=pd.read_csv(\"spam.csv\",encoding=\"latin1\")\n",
        "\n",
        "df.columns\n",
        "\n",
        "df.isnull().sum()\n",
        "\n",
        "df.drop(columns=df[['Unnamed: 2','Unnamed: 3','Unnamed: 4']],axis=1,inplace=True)\n",
        "\n",
        "#Rename columns names for easy to understand, we can also use df.rename\n",
        "df.columns=['spam/ham','sms']\n",
        "\n",
        "#Convert the text data into numerical form\n",
        "df.loc[df['spam/ham'] == 'spam', 'spam/ham',] = 0\n",
        "df.loc[df['spam/ham'] == 'ham', 'spam/ham',] = 1\n",
        "\n",
        "x=df.sms\n",
        "\n",
        "y =df['spam/ham']\n",
        "\n",
        "#Devide the whole dataset into training and testing set for model training\n",
        "from sklearn.model_selection import train_test_split\n",
        "\n",
        "xtrain,xtest,ytrain,ytest=train_test_split(x,y,test_size=0.2,random_state=3)\n",
        "\n",
        "print(x.shape)\n",
        "print(xtrain.shape)\n",
        "print(xtest.shape)\n",
        "\n",
        "feat_vect=TfidfVectorizer(min_df=1,stop_words='english',lowercase=True)\n",
        "\n",
        "ytrain=ytrain.astype('int')\n",
        "ytest=ytest.astype('int')\n",
        "\n",
        "xtrain_vec =feat_vect.fit_transform(xtrain)\n",
        "\n",
        "xtest_vec =feat_vect.transform(xtest) \n",
        "\n",
        "logi=LogisticRegression()\n",
        "\n",
        "logi.fit(xtrain_vec,ytrain)\n",
        "\n",
        "logi.score(xtrain_vec,ytrain)\n",
        "\n",
        "logi.score(xtest_vec,ytest)\n",
        "\n",
        "pred_logi=logi.predict(xtest_vec)\n",
        "pred_logi\n",
        "\n",
        "from sklearn.metrics import confusion_matrix,classification_report,accuracy_score\n",
        "accuracy_score(ytest,pred_logi)\n",
        "\n",
        "confusion_matrix(ytest,pred_logi)\n",
        "\n",
        "print(classification_report(ytest,pred_logi))\n",
        "\n"
      ]
    }
  ]
}